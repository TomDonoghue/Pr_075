{
 "cells": [
  {
   "cell_type": "markdown",
   "metadata": {},
   "source": [
    "# COGS 108 - Assignment 4: Project Proposal"
   ]
  },
  {
   "cell_type": "markdown",
   "metadata": {},
   "source": [
    "## Important\n",
    "\n",
    "- Make sure all group member (3-5 people) are listed in the group members section.\n",
    "- ONE, and only one, member of your group should upload this notebook to TritonED. \n",
    "- Each member of the group will receive the same grade on this assignment. \n",
    "- Keep the file name the same: submit the file 'A4_ProjectProposal.ipynb'"
   ]
  },
  {
   "cell_type": "markdown",
   "metadata": {},
   "source": [
    "## Overview"
   ]
  },
  {
   "cell_type": "markdown",
   "metadata": {},
   "source": [
    "Read the project description, and detailed instructions for this assignment, in the 'A4_ProjectOutlineAndProposal' pdf."
   ]
  },
  {
   "cell_type": "markdown",
   "metadata": {},
   "source": [
    "## Group Members: Fill in the Student ID's of each group member here\n",
    "- A99005806\n",
    "- A99055960\n",
    "- A92044993\n",
    "- A92053014"
   ]
  },
  {
   "cell_type": "markdown",
   "metadata": {},
   "source": [
    "### Research Question\n",
    "\n",
    "What is your research question? (1-2 sentences)"
   ]
  },
  {
   "cell_type": "markdown",
   "metadata": {},
   "source": [
    "- What are the factors that negatively and positively affect crime rates in San Diego County the most? Factors we are going to research include street lamps lighting coverage, processed Alcohol permit records distribution, pollution burden score, education rate, poverty rate, unemployment rate, single mother rate, traffic injury numbers. Then how to most effectively prevent crime based on the analysis to this question?"
   ]
  },
  {
   "cell_type": "markdown",
   "metadata": {},
   "source": [
    "### Hypothesis\n",
    "\n",
    "What is your prediction (2-3 sentences)"
   ]
  },
  {
   "cell_type": "markdown",
   "metadata": {},
   "source": [
    "- We predict that higher street lamps lighting coverage would cause lower crime rates; higher processed Alcohol permit records would cause higher crime rates; higher pollution burden score would cause higher crime rates; higher education rate would cause lower crime rates; higher poverty rate would cause higher crime rates; higher unemployment rate would cause higher crime rates; higher single mother rate would cause higher crime rates; higher traffic injury numbers would cause higher crime rates. And the most effective way to prevent crime would be to find the factor that relates to crime rates the most closely and to change that factor in a good way to reduce crime rate."
   ]
  },
  {
   "cell_type": "markdown",
   "metadata": {},
   "source": [
    "### Dataset(s)\n",
    "\n",
    "What data will you use to answer your question? Describe the dataset in terms of number of observations, what kind of features it contains, etc. You must use at least one dataset containing at least approximately 1000 observations (if your data are smaller but you feel they are sufficient, email Prof. Voytek). You are welcome (and in fact recommended) to find multiple datasets! If you do so, describe each one, and briefly explain how you will combine them together. "
   ]
  },
  {
   "cell_type": "markdown",
   "metadata": {},
   "source": [
    "*Fill in your dataset information here*\n",
    "\n",
    "(Copy this information for each dataset)\n",
    "\n",
    "Dataset 1:\n",
    "- Dataset Name: San Diego Street Lamp Locations\n",
    "- Link to the dataset: https://s3.amazonaws.com/s3.sandiegodata.org/repo/clarinova.com/street_lights-casnd-429e-r1/street_lights.csv\n",
    "- Number of observations: 48454 \n",
    "- 1-2 sentences describing the dataset: A data set including latitude and longitude of street lamps, community, and status of lamp.\n",
    "\n",
    "\n",
    "Dataset 2:\n",
    "- Dataset Name: San Diego Region Crime Incidents 2007 - 2013\n",
    "- Link to the dataset: https://s3.amazonaws.com/s3.sandiegodata.org/repo/clarinova.com/crime-incidents-casnd-7ba4-r3/incidents-5y.csv\n",
    "- Number of observations: 662403\n",
    "- 1-2 sentences describing the dataset: A very comprehensive data set including crimes in San Diego. Data includes date of crime, time of crime, type of crime, location of crime (address, neighbourhood, latitude and longitude), and other various types of data.\n",
    "\n",
    "Dataset 3:\n",
    "- Dataset Name: San Diego County Alcohol Permits\n",
    "- Link to the dataset: https://s3.amazonaws.com/s3.sandiegodata.org/repo/clarinova.com/alcohol_licenses-casnd-429e-r1/abs-licenses-casnd.csv\n",
    "- Number of observations: 4987\n",
    "- 1-2 sentences describing the dataset: A data set which records information of distribution of processed San Diego County Alcohol permits. Data includes issue date, expiration date, owner, address, longitude, latitude, business type.\n",
    "\n",
    "Dataset 4:\n",
    "- Dataset Name: San Diego Census Tracts\n",
    "- Link to the dataset: http://ds.civicknowledge.org.s3.amazonaws.com/sandiegodata.org/sandiegocensustract.xlsx\n",
    "- Number of observations: 625\n",
    "- 1-2 sentences describing the dataset: A data set which records information of various San Diego Census Tracts. Data includes neighbourhood names, zip code, total population, single mother rate, poverty rate, pollution burden score, education rate, unemployment rate,  longitude, latitude, traffic injury numbers.\n",
    "\n",
    "\n",
    "Plan to combine these datasets: We plan on cleaning the datasets first by filtering out unnecessary info such as street lamp brand, crimes committed during the day, unrelevant crimes such as DUI, etc.. The key point to connect all of our data sets is that all the data sets we are going to use have longitude and latitude. So we will link the latitude and longitude in different data sets together so that we will be able to geographically connect all of the datas we need and pinpoint the location of each row of observation and each event."
   ]
  },
  {
   "cell_type": "markdown",
   "metadata": {},
   "source": [
    "### Background & Prior Work\n",
    "\n",
    "Why is this question of interest, what background information led you to your hypothesis, and why is this important?\n",
    "\n",
    "Find some relevant prior work, and reference them. Even if you think you have a totally novel question, find the most similar prior work you can, and discuss how it relates to your project. \n",
    "\n",
    "References can be research publications, but they need not be: blogs, github repositories, company websites, etc., are viable references if they are relevant to your project.\n",
    "\n",
    "(2-3 paragraphs, including at least 2 references)"
   ]
  },
  {
   "cell_type": "markdown",
   "metadata": {},
   "source": [
    "*Fill in your background and prior work here* \n",
    "\n",
    "- We first started our project proposal question as “would the occurrence of street light prevent crimes?” since one of our friends once got robbed on a street without street lamps, and that’s the reason why we are interested in the topic. \n",
    "- If there were street lamps on the street our friend got robbed, he may be able to identify the physical appearance of the criminal, so that it is easier for the police to resolve the case. Besides, the existence of street light might make the potential criminals aware of higher risk of being arrested and thus prevent the crime.\n",
    "- When we start to find data sets and dig into more depth of the question, we realized that there are many other factors that would also affect crime rates at the same time and it is impossible to ignore the other factors. So we finally decide to also analyze the other factors that we can find in data sets and see which of these correlate with crime rates the most.\n",
    "- The question we have is important because it is related to the safety issue of people’s living and people pay lots of attention and emphasis on safety and try to lower the crime rate. Finding out which factor is related to crime rate the most would suggests an effective way to reduce crime rate and thus improve people’s living conditions.\n",
    "\n",
    "\n",
    "References (include a link):\n",
    "- 1) http://www.popcenter.org/library/scp/pdf/07-Atkins_Husain_Storey.pdf\n",
    "- 2) http://keysso.net/community_news/May_2003/improved_lighting_study.pdf\n",
    "- The first reference is a research done by Stephen Atkins, Sohail Husain and Angele Storey and the second reference is a research done by David P. Farrington and Brandon C. Welsh. Both researches address the problem of the crime rate vs. street lighting, which is similar to what we are trying to do in our project. The difference is that we will be working on a different data set which focuses on the San Diego area and we will also be checking other possible factors that would affect crime rates.\n",
    "\n",
    "- 3) https://www2.fbi.gov/ucr/05cius/about/variables_affecting_crime.html\n",
    "“Variables Affecting Crime”\n",
    "- The third reference is an FBI article which talks about how data analysts often ignore some of the most important factors affecting crime rates and always pick data that are superficial and work towards their own hypothesis. Our group need to refer to this article a lot because we learned from it that our research’s conclusion should only limits to San Diego County area and we should be more subjective during analysis.\n",
    "\n",
    "- 4) http://pricetheory.uchicago.edu/levitt/Papers/LevittUnderstandingWhyCrime2004.pdf\n",
    "“Understanding Why Crime Fell in the 1990s: Four Factors that Explain the Decline and Six that Do Not”\n",
    "- The fourth reference is an academic paper which explains some of the factors causing crime rate falling in 1990s. This would give us some insight and intuition on what are the factors that affects crime rates and help us to keep our analysis on relevant data.\n",
    "\n",
    "- 5) w3.marietta.edu/~khorassj/econ421/crime2.doc \n",
    "“Factors Affecting Crime Rates Across the United States: A Regression Analysis”\n",
    "- The fifth reference applies some of the data science approaches to explore what are the factors affecting crime rates, including regression analysis. We could learn how to use data analysis methods for our data sets from this paper and apply them in an customized way for our own project to get more accurate results.\n",
    "\n",
    "\n",
    "    "
   ]
  },
  {
   "cell_type": "markdown",
   "metadata": {},
   "source": [
    "### Proposed Methods\n",
    "\n",
    "What methods will you use to analyze your data?\n",
    "\n",
    "- How 'clean' is the data? To the extent that it requires cleaning, how will you do so?\n",
    "- How will you analyze the data? Be as specific as you can. Briefly mention any pre-processing steps that are required for your methods (for example, checking data distributions and performing any transformations that may be required). Include a brief outline of how you will apply your chosen method(s). \n",
    "- What do you plan to report? Briefly mention any key visualizations you plan to create, and/or the kind of result you will be able to report that addresses your question (this could be, for example, the outcome of some statistical test(s), prediction error on a model, a model fit parameter, etc.).\n",
    "- Include a list of packages you expect to use for you project. If you plan to use packages we have not used in class, add a very brief description about them (a few words is sufficient). "
   ]
  },
  {
   "cell_type": "markdown",
   "metadata": {},
   "source": [
    "*Fill in your proposed methods information here:*\n",
    "\n",
    "*Data Cleaning (2-3 sentences)*\n",
    "- The data sets we found so far are not clean at all. Since we have four different data sets for now, we have to do data cleaning for each of them and there are many columns of irrelevant information in each data set which we do not have to use for our project, especially the “San Diego Census Tracts” data set. For example, dates, types of crimes. These are the columns that we want to clean before running our data analysis because our data sets are really big and running our code on irrelevant data would slow down our entire process. However, here is a conflict which is that the factors which we do not think relate to crime rates for now might become related after our data analysis. So we want to keep as many data records as possible so that we could always get access to these data.\n",
    "\n",
    "- We plan to use Pandas to process our data sets and do data cleaning such as dropping columns and replace outliers data. For example of data cleaning in “San Diego Street Lamp Locations” data set, we will remove all irrelevant columns such as brand of street lamp, clean columns by removing day crimes, and crimes  that are irrelevant such as DUIs, fraud, etc. We need to to further throw out outliers in the dataset such as recording errors. Then we might need to do random sampling for at least one of our data sets because that data set has 662403 rows which is really slow even for our laptop to open it. We do not want this huge data set to slow down our data analysis too much.\n",
    "\n",
    "*Data Analysis (1-2 paragraphs)*\n",
    "- We will need to use Google Map APIs to import our data and present them on San Diego County map. For example for the street lamp data set, if the street lamp data includes highway data, we might need to manually scrape out highway data based off of a highway dataset. Besides, we will analyze if the distribution of streetlamp is related to distribution of crimes. Basically, we will have a coverage of streetlamp calculated as a circle area by setting up a radius and combining it with the longitude and latitude of the streetlamp. Then we will traverse through all the cleaned data records of crimes to compare if the location of where the crime happened is within the area of streetlamp light coverage or not. Finally, we will get how many percentage of crimes were actually happened under the coverage of street lights and how many were happened in the dark. We will do this set of analysis for other data too. For example across different neighbourhood/communities with different poverty rate and other rates, how many crime acts occurred. In order to get an intuitive sense of the result, we will use Google Map API and some other Python geographic analysis packages to draw the San Diego County map out, and then plot the neighbourhood/communities with different colors to represent number of crimes, and also create other heat maps to plot these communities with different colors to represent other data. Finally lay them out together to see what factors correlates with number of crimes the most. We think the heat map style (Similiar to the one shown in the Monday guest lecture regarding Pop star's’ popularity across different regions) is the most convenient and intuitive way of seeing the relationship.\n",
    "\n",
    "- We will also work on plotting data out to find correlations. We will plot the amount of crime out along with other data like poverty rate, unemployment rate across different neighbourhood/communities and then check if the graph looks alike or not.\n",
    "\n",
    "- Since we will be mainly using longitude and latitude for analysis, we do not need any data transformation.\n",
    "\n",
    "\n",
    "*What to report (2-3 sentences)*\n",
    "- We plan to have a visualization of number of crimes in different regions/communities across San Diego County which would be a geographical heat map, and also the heat map of streetlamp light coverage of the San Diego County, and also the heat map of other factors we have in order to cross compare these different factors. Also, we will integrate crimes as dots on the San Diego County map with the streetlamp coverage. This way, it is intuitive and straightforward to see the correlation between streetlamp locations and crime rates. Besides, we will have histograms printed out and see the relationship in histograms. Then we could make a conclusion of if we need to have more streetlamp built to prevent crimes or not. We could also make conclusion of what is the factor that affects the crime rates in San Diego County the most and how do we prevent crimes most effectively.\n",
    "\n",
    "\n",
    "Packages we plan to use:\n",
    "- a Pandas\n",
    "- b Anaconda\n",
    "- c Jupyter Notebook\n",
    "- d Numpy (for mathematical computations like matrix multiplication)\n",
    "- e pyqgis (Python library for geographic information system (GIS) analysis)\n",
    "- f geographiclib (provides conversion between different geographic units)\n",
    "- g Google Map API (help us to have visualization of data in a geographic way)"
   ]
  },
  {
   "cell_type": "markdown",
   "metadata": {},
   "source": [
    "### Discussion\n",
    "\n",
    "What are the pitfalls and potential confounds of your data and/or methods? For example, how might biases in your data sources or analyses influence your interpretations? What will you do if you methods don't work and/or your hypotheses are wrong?\n",
    "\n",
    "(2-3 paragraphs)\n",
    "\n"
   ]
  },
  {
   "cell_type": "markdown",
   "metadata": {},
   "source": [
    "*Fill in your discussion information here*\n",
    "\n",
    "- For the street lamp data set, although the location of street lamps is very detailed, some of them may appear on highways which has a very low chance for a crime. Besides, there could also be a chance that the lamp is beside a road without a sidewalk. This could lead to the façade that there is fewer crimes under street lights. Since the data is from 2007 to 2013, it could be different from the current situation. It lacks the detail data of each street lamp, since different kinds of lamps have different strength of illumination, the assumed radius may cause errors on determining if the crimes happened under a lamp or not.\n",
    "\n",
    "- The population varies in different region, therefore place with less population has a fewer chance of crime. This could affect the accuracy of the data. People may have illusions that they were stolen or stalked if they are walking in a street with no lamps, it could cause a higher chance for them to report a crime in those streets.\n",
    "\n",
    "- Bias might occur if we fail to include data sets that contain other major factors related to crimes. In conclusion, our data sets might not cover every major factors of what effect crimes. So if our hypotheses are wrong, as we move on and analyze factor by factor, we should keep adding data sets with different new factors and keeping analyzing new factors if we have time. If our methods are wrong, we will keep doing research online to see how other researchers do this kind of geographical analysis and get correlations between different factors."
   ]
  }
 ],
 "metadata": {
  "kernelspec": {
   "display_name": "Python 3",
   "language": "python",
   "name": "python3"
  },
  "language_info": {
   "codemirror_mode": {
    "name": "ipython",
    "version": 3
   },
   "file_extension": ".py",
   "mimetype": "text/x-python",
   "name": "python",
   "nbconvert_exporter": "python",
   "pygments_lexer": "ipython3",
   "version": "3.6.0"
  }
 },
 "nbformat": 4,
 "nbformat_minor": 2
}
